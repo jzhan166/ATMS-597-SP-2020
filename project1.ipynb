{
  "nbformat": 4,
  "nbformat_minor": 0,
  "metadata": {
    "colab": {
      "name": "project1.ipynb",
      "provenance": [],
      "authorship_tag": "ABX9TyNHiNxU7LKHrBsYYVrvkg75",
      "include_colab_link": true
    },
    "kernelspec": {
      "name": "python3",
      "display_name": "Python 3"
    }
  },
  "cells": [
    {
      "cell_type": "markdown",
      "metadata": {
        "id": "view-in-github",
        "colab_type": "text"
      },
      "source": [
        "<a href=\"https://colab.research.google.com/github/jzhan166/ATMS-597-SP-2020/blob/master/project1.ipynb\" target=\"_parent\"><img src=\"https://colab.research.google.com/assets/colab-badge.svg\" alt=\"Open In Colab\"/></a>"
      ]
    },
    {
      "cell_type": "code",
      "metadata": {
        "id": "QLDvvK-IGn-n",
        "colab_type": "code",
        "colab": {}
      },
      "source": [
        "class MyClass:\n",
        "    \"\"\"A simple example class\"\"\"\n",
        "    i = 12345\n",
        "    j = 'haha'\n",
        "    def f(self):\n",
        "        return 'hello world'"
      ],
      "execution_count": 0,
      "outputs": []
    },
    {
      "cell_type": "code",
      "metadata": {
        "id": "a37OxQFfHIQ7",
        "colab_type": "code",
        "colab": {}
      },
      "source": [
        "x = MyClass"
      ],
      "execution_count": 0,
      "outputs": []
    },
    {
      "cell_type": "code",
      "metadata": {
        "id": "bJIUdtTfHVYw",
        "colab_type": "code",
        "colab": {
          "base_uri": "https://localhost:8080/",
          "height": 34
        },
        "outputId": "984145ad-f78b-4102-9d5b-f6cc50d7349a"
      },
      "source": [
        "x.i"
      ],
      "execution_count": 3,
      "outputs": [
        {
          "output_type": "execute_result",
          "data": {
            "text/plain": [
              "12345"
            ]
          },
          "metadata": {
            "tags": []
          },
          "execution_count": 3
        }
      ]
    },
    {
      "cell_type": "code",
      "metadata": {
        "id": "KrF3N8OBOyQQ",
        "colab_type": "code",
        "colab": {}
      },
      "source": [
        "class Dog:\n",
        "\n",
        "    def __init__(self, name):  # special function to initialize a method with 'defaults'\n",
        "        self.name = name\n",
        "        self.tricks = []    # creates a new empty list for each dog\n",
        "\n",
        "    def add_trick(self, trick):\n",
        "        self.tricks.append(trick)"
      ],
      "execution_count": 0,
      "outputs": []
    },
    {
      "cell_type": "code",
      "metadata": {
        "id": "5JNPPYljHWkJ",
        "colab_type": "code",
        "colab": {
          "base_uri": "https://localhost:8080/",
          "height": 130
        },
        "outputId": "83dfbb5f-1dd7-40be-add7-c65293978b7e"
      },
      "source": [
        "class tempconvert:\n",
        "\n",
        "    def __init__(self, value, unit):  # special function to initialize a method with 'defaults'\n",
        "        self.value = value\n",
        "        self.unit = unit \n",
        "\n",
        "    def convert(self, to):\n",
        "\n",
        "      if self.unit == \"C\" and to == \"toC\":\n",
        "        print (\"values are already in degree C\")\n",
        "        return self.value\n",
        "        \"\"\" return self\"\"\"\n",
        "      if self.unit == \"C\" and to == \"toK\":\n",
        "        return tempconvert([self.value + 273.15], \"K\")\n",
        "      elif self.unit == \"C and to == \"toF\":\n",
        "        return tempconvert([self.value * 1.8 + 32], \"F\")\n",
        "      \n",
        "      if self.unit == \"K\" and to == \"toK\":\n",
        "        print (\"values are already in degree K\")\n",
        "        return self.value\n",
        "        \"\"\" return self\"\"\"\n",
        "      if self.unit == \"K\" and to == \"toC\":\n",
        "        return tempconvert([self.value - 273.15], \"C\")\n",
        "      elif self.unit == \"K and to == \"toF\":\n",
        "        return tempconvert([(self.value -273.15) * 1.8 + 32], \"F\")\n",
        "      \n",
        "      if self.unit == \"F\" and to == \"toF\":\n",
        "        print (\"values are already in degree F\")\n",
        "        return self.value\n",
        "        \"\"\" return self\"\"\"\n",
        "      if self.unit == \"F\" and to == \"toK\":\n",
        "        return tempconvert((self.value - 32) / 1.8 + 273.15, \"K\")\n",
        "      elif self.unit == \"F and to == \"toC\":\n",
        "        return tempconvert([(self.value - 32) / 1.8], \"C\")\n",
        "\n",
        "      else:\n",
        "        print(\"input error\")\n",
        "\n",
        "\n"
      ],
      "execution_count": 4,
      "outputs": [
        {
          "output_type": "error",
          "ename": "SyntaxError",
          "evalue": "ignored",
          "traceback": [
            "\u001b[0;36m  File \u001b[0;32m\"<ipython-input-4-6eb4ac70a481>\"\u001b[0;36m, line \u001b[0;32m15\u001b[0m\n\u001b[0;31m    elif self.unit == \"C and to == \"toF\":\u001b[0m\n\u001b[0m                                      ^\u001b[0m\n\u001b[0;31mSyntaxError\u001b[0m\u001b[0;31m:\u001b[0m invalid syntax\n"
          ]
        }
      ]
    },
    {
      "cell_type": "code",
      "metadata": {
        "id": "9u7MjkIGcFLU",
        "colab_type": "code",
        "colab": {}
      },
      "source": [
        ""
      ],
      "execution_count": 0,
      "outputs": []
    }
  ]
}